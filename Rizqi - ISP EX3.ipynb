{
 "cells": [
  {
   "cell_type": "code",
   "execution_count": 1,
   "metadata": {},
   "outputs": [
    {
     "name": "stdout",
     "output_type": "stream",
     "text": [
      "/usr/local/bin/ffmpeg\r\n"
     ]
    }
   ],
   "source": [
    "#this will download latest ffmpeg static build\n",
    "exist = !which ffmpeg\n",
    "if not exist:\n",
    "  !curl https://johnvansickle.com/ffmpeg/releases/ffmpeg-release-amd64-static.tar.xz -o ffmpeg.tar.xz \\\n",
    "     && tar -xf ffmpeg.tar.xz && rm ffmpeg.tar.xz\n",
    "  ffmdir = !find . -iname ffmpeg-*-static\n",
    "  path = %env PATH\n",
    "  path = path + ':' + ffmdir[0]\n",
    "  %env PATH $path\n",
    "\n",
    "!which ffmpeg"
   ]
  },
  {
   "cell_type": "code",
   "execution_count": 2,
   "metadata": {},
   "outputs": [
    {
     "name": "stdout",
     "output_type": "stream",
     "text": [
      "Requirement already satisfied: tabulate in /Users/rizfebriansyah/Anaconda3/anaconda3/lib/python3.8/site-packages (0.8.9)\n",
      "Note: you may need to restart the kernel to use updated packages.\n"
     ]
    }
   ],
   "source": [
    "pip install tabulate"
   ]
  },
  {
   "cell_type": "code",
   "execution_count": 3,
   "metadata": {},
   "outputs": [],
   "source": [
    "from tqdm import tqdm\n",
    "import subprocess as sp\n",
    "import os\n",
    "import json\n",
    "import shlex\n",
    "\n",
    "import tabulate\n",
    "import pandas as pd"
   ]
  },
  {
   "cell_type": "markdown",
   "metadata": {},
   "source": [
    "<b>Collecting Media Stream Information for Voyage to the Planet of Prehistoric Women (using ffprobe)</b>"
   ]
  },
  {
   "cell_type": "code",
   "execution_count": 4,
   "metadata": {},
   "outputs": [
    {
     "name": "stdout",
     "output_type": "stream",
     "text": [
      "Input #0, mov,mp4,m4a,3gp,3g2,mj2, from './Files/Voyage_to_the_Planet_of_Prehistoric_Women.mp4':\r\n",
      "  Metadata:\r\n",
      "    major_brand     : mp42\r\n",
      "    minor_version   : 0\r\n",
      "    compatible_brands: mp42mp41\r\n",
      "    creation_time   : 2021-08-02T19:26:10.000000Z\r\n",
      "  Duration: 00:00:20.09, start: 0.000000, bitrate: 8337 kb/s\r\n",
      "  Stream #0:0[0x1](eng): Video: hevc (Main) (hvc1 / 0x31637668), yuv420p(tv, bt709), 640x360 [SAR 1:1 DAR 16:9], 8038 kb/s, 29.97 fps, 29.97 tbr, 30k tbn (default)\r\n",
      "    Metadata:\r\n",
      "      creation_time   : 2021-08-02T19:26:10.000000Z\r\n",
      "      handler_name    : ?Mainconcept Video Media Handler\r\n",
      "      vendor_id       : [0][0][0][0]\r\n",
      "      encoder         : HEVC Coding\r\n",
      "  Stream #0:1[0x2](eng): Audio: mp3 (mp4a / 0x6134706D), 48000 Hz, stereo, fltp, 320 kb/s (default)\r\n",
      "    Metadata:\r\n",
      "      creation_time   : 2021-08-02T19:26:10.000000Z\r\n",
      "      handler_name    : #Mainconcept MP4 Sound Media Handler\r\n",
      "      vendor_id       : [0][0][0][0]\r\n"
     ]
    }
   ],
   "source": [
    "!ffprobe -hide_banner ./Files/Voyage_to_the_Planet_of_Prehistoric_Women.mp4"
   ]
  },
  {
   "cell_type": "markdown",
   "metadata": {},
   "source": [
    "<b>Collecting Media Stream Information for The Gun and the Pulpit (using ffprobe)</b>"
   ]
  },
  {
   "cell_type": "code",
   "execution_count": 5,
   "metadata": {},
   "outputs": [
    {
     "name": "stdout",
     "output_type": "stream",
     "text": [
      "Input #0, avi, from './Files/The_Gun_and_the_Pulpit.avi':\n",
      "  Duration: 00:00:20.00, start: 0.000000, bitrate: 88809 kb/s\n",
      "  Stream #0:0: Video: rawvideo (IYUV / 0x56555949), yuv420p, 720x404, 87438 kb/s, 25 fps, 25 tbr, 25 tbn\n",
      "  Stream #0:1: Audio: pcm_s16le ([1][0][0][0] / 0x0001), 48000 Hz, 2 channels, s16, 1536 kb/s\n"
     ]
    }
   ],
   "source": [
    "!ffprobe -hide_banner ./Files/The_Gun_and_the_Pulpit.avi"
   ]
  },
  {
   "cell_type": "markdown",
   "metadata": {},
   "source": [
    "<b>Collecting Media Stream Information for Last Man On Earth 1964 (using ffprobe)</b>"
   ]
  },
  {
   "cell_type": "code",
   "execution_count": 6,
   "metadata": {},
   "outputs": [
    {
     "name": "stdout",
     "output_type": "stream",
     "text": [
      "Input #0, mov,mp4,m4a,3gp,3g2,mj2, from './Files/Last_man_on_earth_1964.mov':\r\n",
      "  Metadata:\r\n",
      "    major_brand     : qt  \r\n",
      "    minor_version   : 537199360\r\n",
      "    compatible_brands: qt  \r\n",
      "    creation_time   : 2021-08-02T18:38:19.000000Z\r\n",
      "  Duration: 00:00:20.02, start: 0.000000, bitrate: 11240 kb/s\r\n",
      "  Stream #0:0[0x1](eng): Video: prores (LT) (apcs / 0x73637061), yuv422p10le(tv, smpte170m/smpte170m/bt709, progressive), 640x360, 9285 kb/s, SAR 1:1 DAR 16:9, 23.98 fps, 23.98 tbr, 24k tbn (default)\r\n",
      "    Metadata:\r\n",
      "      creation_time   : 2021-08-02T18:38:19.000000Z\r\n",
      "      handler_name    : Apple Video Media Handler\r\n",
      "      vendor_id       : appl\r\n",
      "      encoder         : Apple ProRes 422 LT\r\n",
      "      timecode        : 00:51:43:11\r\n",
      "  Stream #0:1[0x2](eng): Audio: pcm_s16le (sowt / 0x74776F73), 48000 Hz, stereo, s16, 1536 kb/s (default)\r\n",
      "    Metadata:\r\n",
      "      creation_time   : 2021-08-02T18:38:19.000000Z\r\n",
      "      handler_name    : Apple Sound Media Handler\r\n",
      "      vendor_id       :     \r\n",
      "      timecode        : 00:51:43:11\r\n",
      "  Stream #0:2[0x3](eng): Data: none (tmcd / 0x64636D74), 0 kb/s (default)\r\n",
      "    Metadata:\r\n",
      "      creation_time   : 2021-08-02T18:38:19.000000Z\r\n",
      "      handler_name    : Time Code Media Handler\r\n",
      "      timecode        : 00:51:43:11\r\n",
      "\u001b[0;33mUnsupported codec with id 0 for input stream 2\r\n",
      "\u001b[0m"
     ]
    }
   ],
   "source": [
    "!ffprobe -hide_banner ./Files/Last_man_on_earth_1964.mov"
   ]
  },
  {
   "cell_type": "markdown",
   "metadata": {},
   "source": [
    "<b>Collecting Media Stream Information for Cosmos War of The Planets (using ffprobe)</b>"
   ]
  },
  {
   "cell_type": "code",
   "execution_count": 7,
   "metadata": {},
   "outputs": [
    {
     "name": "stdout",
     "output_type": "stream",
     "text": [
      "Input #0, mov,mp4,m4a,3gp,3g2,mj2, from './Files/Cosmos_War_of_the_Planets.mp4':\n",
      "  Metadata:\n",
      "    major_brand     : mp42\n",
      "    minor_version   : 0\n",
      "    compatible_brands: mp42mp41\n",
      "    creation_time   : 2021-08-02T19:15:48.000000Z\n",
      "  Duration: 00:00:20.05, start: 0.000000, bitrate: 3309 kb/s\n",
      "  Stream #0:0[0x1](eng): Video: h264 (Main) (avc1 / 0x31637661), yuv420p(progressive), 628x354 [SAR 1:1 DAR 314:177], 2989 kb/s, 29.97 fps, 29.97 tbr, 30k tbn (default)\n",
      "    Metadata:\n",
      "      creation_time   : 2021-08-02T19:15:48.000000Z\n",
      "      handler_name    : ?Mainconcept Video Media Handler\n",
      "      vendor_id       : [0][0][0][0]\n",
      "      encoder         : AVC Coding\n",
      "  Stream #0:1[0x2](eng): Audio: aac (LC) (mp4a / 0x6134706D), 48000 Hz, stereo, fltp, 317 kb/s (default)\n",
      "    Metadata:\n",
      "      creation_time   : 2021-08-02T19:15:48.000000Z\n",
      "      handler_name    : #Mainconcept MP4 Sound Media Handler\n",
      "      vendor_id       : [0][0][0][0]\n"
     ]
    }
   ],
   "source": [
    "!ffprobe -hide_banner ./Files/Cosmos_War_of_the_Planets.mp4"
   ]
  },
  {
   "cell_type": "markdown",
   "metadata": {},
   "source": [
    "<b>Collecting Media Stream Information for The Hill Gang Rides Again (using ffprobe)</b>"
   ]
  },
  {
   "cell_type": "code",
   "execution_count": 8,
   "metadata": {},
   "outputs": [
    {
     "name": "stdout",
     "output_type": "stream",
     "text": [
      "Input #0, mov,mp4,m4a,3gp,3g2,mj2, from './Files/The_Hill_Gang_Rides_Again.mp4':\r\n",
      "  Metadata:\r\n",
      "    major_brand     : mp42\r\n",
      "    minor_version   : 0\r\n",
      "    compatible_brands: mp42mp41\r\n",
      "    creation_time   : 2021-08-02T18:46:51.000000Z\r\n",
      "  Duration: 00:00:20.04, start: 0.000000, bitrate: 7784 kb/s\r\n",
      "  Stream #0:0[0x1](eng): Video: h264 (Main) (avc1 / 0x31637661), yuv420p(progressive), 640x360 [SAR 1:1 DAR 16:9], 7537 kb/s, 25 fps, 25 tbr, 25k tbn (default)\r\n",
      "    Metadata:\r\n",
      "      creation_time   : 2021-08-02T18:46:51.000000Z\r\n",
      "      handler_name    : ?Mainconcept Video Media Handler\r\n",
      "      vendor_id       : [0][0][0][0]\r\n",
      "      encoder         : AVC Coding\r\n",
      "  Stream #0:1[0x2](eng): Audio: aac (LC) (mp4a / 0x6134706D), 44100 Hz, stereo, fltp, 253 kb/s (default)\r\n",
      "    Metadata:\r\n",
      "      creation_time   : 2021-08-02T18:46:51.000000Z\r\n",
      "      handler_name    : #Mainconcept MP4 Sound Media Handler\r\n",
      "      vendor_id       : [0][0][0][0]\r\n"
     ]
    }
   ],
   "source": [
    "!ffprobe -hide_banner ./Files/The_Hill_Gang_Rides_Again.mp4"
   ]
  },
  {
   "cell_type": "markdown",
   "metadata": {},
   "source": [
    "<b>We need to set the variables for reformatting in the later process.</b> <br>\n",
    "For now, we need to find out what is the required metadata.<br><br>\n",
    "The format of the films specified by the festival organisation is:<br>\n",
    "    - Video format (container): mp4 <br>\n",
    "    - Video codec: h.264<br>\n",
    "    - Audio codec: aac<br>\n",
    "    - Frame rate: 25 FPS<br>\n",
    "    - Aspect ratio: 16:9<br>\n",
    "    - resolution: 640 x 360<br>\n",
    "    - Video bit rate: 2 – 5 Mb/s<br>\n",
    "    - Audio bit rate: up to 256 kb/s <br>\n",
    "    - Audio channels: stereo<br>"
   ]
  },
  {
   "cell_type": "markdown",
   "metadata": {},
   "source": [
    "<b>This will be the variables which is required during the reformatting process:</b>"
   ]
  },
  {
   "cell_type": "code",
   "execution_count": 9,
   "metadata": {},
   "outputs": [],
   "source": [
    "labels = {\n",
    "    'video_codec': 'h264', \n",
    "    'resolution': '640x360',\n",
    "    'aspect_ratio': '16:9',\n",
    "    'frame_rate': 25,\n",
    "    'video_bit_rate': 3700, #this is in kilobytes\n",
    "    \n",
    "    'audio_codec': 'aac',\n",
    "    'audio_bit_rate': 256,\n",
    "    'audio_channels': 'stereo'\n",
    "}"
   ]
  },
  {
   "cell_type": "code",
   "execution_count": 10,
   "metadata": {},
   "outputs": [],
   "source": [
    "video_format = 'mp4'\n",
    "\n",
    "#this will be the video settings\n",
    "video_codec = 'libx264'\n",
    "resolution = '640x360'\n",
    "aspect_ratio = '16:9'\n",
    "frame_rate = 25\n",
    "video_bit_rate = 3.7 #this is in megabytes\n",
    "\n",
    "#this will be the audio settings\n",
    "audio_codec = 'aac'\n",
    "audio_bit_rate = 256\n",
    "audio_channels = 2 #stereo"
   ]
  },
  {
   "cell_type": "markdown",
   "metadata": {},
   "source": [
    "<b>Now we we need to retrieve the metadata of the videos:</b>"
   ]
  },
  {
   "cell_type": "code",
   "execution_count": 11,
   "metadata": {},
   "outputs": [],
   "source": [
    "#we will now be storing the videos' required metadata in a nested dictionary\n",
    "#we will assign the key variable in a format: data[vfile][video_metadata_label]\n",
    "\n",
    "#[\"streams\"][0] = video\n",
    "#[\"streams\"][1] = audio\n",
    "\n",
    "def storing_metadata(vfile, json_video_metadata, data):\n",
    "    \n",
    "    try:\n",
    "        #this will be the video aspect \n",
    "        data[vfile] = {\"video_codec\": json_video_metadata[\"streams\"][0][\"codec_name\"]}\n",
    "        data[vfile][\"resolution\"] = str(json_video_metadata[\"streams\"][0][\"width\"]) + 'x' + str(json_video_metadata[\"streams\"][0][\"height\"])\n",
    "        data[vfile][\"aspect_ratio\"] = json_video_metadata[\"streams\"][0][\"display_aspect_ratio\"]\n",
    "        frames, seconds = json_video_metadata[\"streams\"][0][\"r_frame_rate\"].split('/')\n",
    "        data[vfile][\"frame_rate\"] = int(frames)/int(seconds)\n",
    "        data[vfile][\"video_bit_rate\"] = int(json_video_metadata[\"streams\"][0][\"bit_rate\"])/1000\n",
    "\n",
    "        #this will be the audio aspect \n",
    "        data[vfile][\"audio_codec\"] = json_video_metadata[\"streams\"][1][\"codec_name\"]\n",
    "        data[vfile][\"audio_bit_rate\"] = int(json_video_metadata[\"streams\"][1][\"bit_rate\"])/1000\n",
    "        data[vfile][\"audio_channels\"] = json_video_metadata[\"streams\"][1][\"channel_layout\"]\n",
    "    except:\n",
    "        pass"
   ]
  },
  {
   "cell_type": "markdown",
   "metadata": {},
   "source": [
    "<b>Displaying the video files in a table</b>"
   ]
  },
  {
   "cell_type": "code",
   "execution_count": 12,
   "metadata": {},
   "outputs": [
    {
     "data": {
      "text/html": [
       "<div>\n",
       "<style scoped>\n",
       "    .dataframe tbody tr th:only-of-type {\n",
       "        vertical-align: middle;\n",
       "    }\n",
       "\n",
       "    .dataframe tbody tr th {\n",
       "        vertical-align: top;\n",
       "    }\n",
       "\n",
       "    .dataframe thead th {\n",
       "        text-align: right;\n",
       "    }\n",
       "</style>\n",
       "<table border=\"1\" class=\"dataframe\">\n",
       "  <thead>\n",
       "    <tr style=\"text-align: right;\">\n",
       "      <th></th>\n",
       "      <th>Last_man_on_earth_1964.mov</th>\n",
       "      <th>Voyage_to_the_Planet_of_Prehistoric_Women.mp4</th>\n",
       "      <th>The_Gun_and_the_Pulpit.avi</th>\n",
       "      <th>Cosmos_War_of_the_Planets.mp4</th>\n",
       "      <th>The_Hill_Gang_Rides_Again.mp4</th>\n",
       "    </tr>\n",
       "  </thead>\n",
       "  <tbody>\n",
       "    <tr>\n",
       "      <th>video_codec</th>\n",
       "      <td>prores</td>\n",
       "      <td>hevc</td>\n",
       "      <td>rawvideo</td>\n",
       "      <td>h264</td>\n",
       "      <td>h264</td>\n",
       "    </tr>\n",
       "    <tr>\n",
       "      <th>resolution</th>\n",
       "      <td>640x360</td>\n",
       "      <td>640x360</td>\n",
       "      <td>720x404</td>\n",
       "      <td>628x354</td>\n",
       "      <td>640x360</td>\n",
       "    </tr>\n",
       "    <tr>\n",
       "      <th>aspect_ratio</th>\n",
       "      <td>16:9</td>\n",
       "      <td>16:9</td>\n",
       "      <td>NaN</td>\n",
       "      <td>314:177</td>\n",
       "      <td>16:9</td>\n",
       "    </tr>\n",
       "    <tr>\n",
       "      <th>frame_rate</th>\n",
       "      <td>23.976</td>\n",
       "      <td>29.97</td>\n",
       "      <td>NaN</td>\n",
       "      <td>29.97</td>\n",
       "      <td>25</td>\n",
       "    </tr>\n",
       "    <tr>\n",
       "      <th>video_bit_rate</th>\n",
       "      <td>9285.19</td>\n",
       "      <td>8038.86</td>\n",
       "      <td>NaN</td>\n",
       "      <td>2989.38</td>\n",
       "      <td>7537.73</td>\n",
       "    </tr>\n",
       "    <tr>\n",
       "      <th>audio_codec</th>\n",
       "      <td>pcm_s16le</td>\n",
       "      <td>mp3</td>\n",
       "      <td>NaN</td>\n",
       "      <td>aac</td>\n",
       "      <td>aac</td>\n",
       "    </tr>\n",
       "    <tr>\n",
       "      <th>audio_bit_rate</th>\n",
       "      <td>1536</td>\n",
       "      <td>320</td>\n",
       "      <td>NaN</td>\n",
       "      <td>317.103</td>\n",
       "      <td>253.272</td>\n",
       "    </tr>\n",
       "    <tr>\n",
       "      <th>audio_channels</th>\n",
       "      <td>stereo</td>\n",
       "      <td>stereo</td>\n",
       "      <td>NaN</td>\n",
       "      <td>stereo</td>\n",
       "      <td>stereo</td>\n",
       "    </tr>\n",
       "  </tbody>\n",
       "</table>\n",
       "</div>"
      ],
      "text/plain": [
       "               Last_man_on_earth_1964.mov  \\\n",
       "video_codec                        prores   \n",
       "resolution                        640x360   \n",
       "aspect_ratio                         16:9   \n",
       "frame_rate                         23.976   \n",
       "video_bit_rate                    9285.19   \n",
       "audio_codec                     pcm_s16le   \n",
       "audio_bit_rate                       1536   \n",
       "audio_channels                     stereo   \n",
       "\n",
       "               Voyage_to_the_Planet_of_Prehistoric_Women.mp4  \\\n",
       "video_codec                                             hevc   \n",
       "resolution                                           640x360   \n",
       "aspect_ratio                                            16:9   \n",
       "frame_rate                                             29.97   \n",
       "video_bit_rate                                       8038.86   \n",
       "audio_codec                                              mp3   \n",
       "audio_bit_rate                                           320   \n",
       "audio_channels                                        stereo   \n",
       "\n",
       "               The_Gun_and_the_Pulpit.avi Cosmos_War_of_the_Planets.mp4  \\\n",
       "video_codec                      rawvideo                          h264   \n",
       "resolution                        720x404                       628x354   \n",
       "aspect_ratio                          NaN                       314:177   \n",
       "frame_rate                            NaN                         29.97   \n",
       "video_bit_rate                        NaN                       2989.38   \n",
       "audio_codec                           NaN                           aac   \n",
       "audio_bit_rate                        NaN                       317.103   \n",
       "audio_channels                        NaN                        stereo   \n",
       "\n",
       "               The_Hill_Gang_Rides_Again.mp4  \n",
       "video_codec                             h264  \n",
       "resolution                           640x360  \n",
       "aspect_ratio                            16:9  \n",
       "frame_rate                                25  \n",
       "video_bit_rate                       7537.73  \n",
       "audio_codec                              aac  \n",
       "audio_bit_rate                       253.272  \n",
       "audio_channels                        stereo  "
      ]
     },
     "execution_count": 12,
     "metadata": {},
     "output_type": "execute_result"
    }
   ],
   "source": [
    "#we will now search through the video files and use the ffprobe command to retrive the videos' metadata\n",
    "data = {}\n",
    "path_to_files = \"Files/\"\n",
    "\n",
    "for vfile in os.listdir(path_to_files):\n",
    "    \n",
    "    #this is exclusion of the reformatted videos under the newformat folder\n",
    "    if 'newformat' not in vfile:\n",
    "        video_path = \"./\" + path_to_files + vfile\n",
    "\n",
    "        #this is where you run the terminal command to erase the temporary file (DS_Store). Afterwards, we will retrieve the videos' metadata\n",
    "        os.system(\"find . -name '.DS_Store' -delete\")        \n",
    "        video_metadata = sp.run(shlex.split(f'ffprobe -hide_banner -show_streams -loglevel error -of json {video_path}'), capture_output=True).stdout\n",
    "        json_video_metadata = json.loads(video_metadata)\n",
    "        \n",
    "        #using the helper function, store and save the data in a nested dictionary\n",
    "        storing_metadata(vfile, json_video_metadata, data)\n",
    "\n",
    "pd.DataFrame.from_dict(data)"
   ]
  },
  {
   "cell_type": "markdown",
   "metadata": {},
   "source": [
    "<b> Now, we need to identify the issues with the video, and generate a report in .txt format </b>"
   ]
  },
  {
   "cell_type": "code",
   "execution_count": 13,
   "metadata": {},
   "outputs": [],
   "source": [
    "from tabulate import tabulate\n",
    "\n",
    "with open('all_videos_issues.txt', 'w') as issues:\n",
    "    \n",
    "    issues.write(\"VIDEOS WITH INCORRECT SETTINGS\"+ '\\n' + '\\n')\n",
    "\n",
    "    for vfile in data.keys():\n",
    "        \n",
    "        #this variable is used to tabulate video settings data for printing and saving to a.txt file\n",
    "        table = []\n",
    "        \n",
    "        #this is to check for video_format (container) type (.mp4)\n",
    "        if vfile[-3:] != video_format:\n",
    "            table.append(['video_format', vfile[-3:], video_format])\n",
    "        \n",
    "\n",
    "        issues.write(\"Video Name: \" + vfile + '\\n')\n",
    "        issues.write('***********************************************************************\\n')\n",
    "        \n",
    "        #search through and analyse all retrieved metadata settings\n",
    "        for video_metadata_label in data[vfile].keys():\n",
    "\n",
    "            #this is what happens if the existing video configurations do not correspond to the required ones\n",
    "            if data[vfile][video_metadata_label] != labels[video_metadata_label]:\n",
    "\n",
    "                current_setting = str(data[vfile][video_metadata_label])\n",
    "                desired_setting = str(labels[video_metadata_label])\n",
    "                table.append([video_metadata_label, current_setting, desired_setting])\n",
    "\n",
    "        issues.write(tabulate(table, headers=['Metadata', 'Current setting', 'Desired setting']) + '\\n\\n\\n')"
   ]
  },
  {
   "cell_type": "markdown",
   "metadata": {},
   "source": [
    "# Now, we need to reformat the videos to the specified requirements\n",
    "A new video file will be generated with '_formatOK' appended at the end of the video file name.<br>\n",
    "These new video files will be stored in a new directory too:<br>\n",
    "/Files/newformat/{newvideofilename}"
   ]
  },
  {
   "cell_type": "markdown",
   "metadata": {},
   "source": [
    "<b>1) The Hill Gang Rides Again </b><br>\n",
    "We need to change these metadata:\n",
    "- video bit rate<br>\n",
    "- audio bit rate<br>"
   ]
  },
  {
   "cell_type": "code",
   "execution_count": 14,
   "metadata": {},
   "outputs": [],
   "source": [
    "!ffmpeg -i ./Files/The_Hill_Gang_Rides_Again.mp4 -loglevel error -b:v {video_bit_rate}M -b:a {audio_bit_rate}k ./Files/newformat/The_Hill_Gang_Rides_Again_formatOK.mp4 -y"
   ]
  },
  {
   "cell_type": "markdown",
   "metadata": {},
   "source": [
    "<b>2) Cosmos War of The Planets </b><br>\n",
    "We need to change these metadata:\n",
    "- frame rate<br>\n",
    "- aspect ratio<br>\n",
    "- resolution<br>\n",
    "- video bit rate<br>\n",
    "- audio bit rate<br>"
   ]
  },
  {
   "cell_type": "code",
   "execution_count": 15,
   "metadata": {},
   "outputs": [],
   "source": [
    "!ffmpeg -i ./Files/Cosmos_War_of_the_Planets.mp4 -loglevel error -r {frame_rate} -aspect {aspect_ratio} -vf scale={resolution} -b:v {video_bit_rate}M -b:a {audio_bit_rate}k ./Files/newformat/Cosmos_War_of_the_Planets_formatOK.mp4 -y"
   ]
  },
  {
   "cell_type": "markdown",
   "metadata": {},
   "source": [
    "<b>3) Last Man On Earth 1964</b> <br>\n",
    "We need to change these metadata:\n",
    "- video format (container)<br>\n",
    "- video codec<br>\n",
    "- audio codec<br>\n",
    "- frame rate<br>\n",
    "- video bit rate<br>\n",
    "- audio bit rate<br>"
   ]
  },
  {
   "cell_type": "code",
   "execution_count": 16,
   "metadata": {},
   "outputs": [
    {
     "name": "stdout",
     "output_type": "stream",
     "text": [
      "\u001b[1;35m[mp4 @ 0x7f8c75f0b340] \u001b[0m\u001b[1;31mApplication provided duration: -9223372036854775808 / timestamp: -9223372036854775808 is out of range for mov/mp4 format\r\n",
      "\u001b[0m"
     ]
    }
   ],
   "source": [
    "!ffmpeg -i ./Files/Last_man_on_earth_1964.mov -loglevel error -vcodec {video_codec} -acodec {audio_codec} -r {frame_rate} -b:v {video_bit_rate}M -b:a {audio_bit_rate}k ./Files/newformat/Last_man_on_earth_1964_formatOK.mp4 -y"
   ]
  },
  {
   "cell_type": "markdown",
   "metadata": {},
   "source": [
    "<b>4) Voyage to the Planet of Prehistoric Women</b><br>\n",
    "We need to change these metadata:\n",
    "- video codec<br>\n",
    "- audio codec<br>\n",
    "- frame rate<br>\n",
    "- video bit rate<br>\n",
    "- audio bit rate<br>"
   ]
  },
  {
   "cell_type": "code",
   "execution_count": 17,
   "metadata": {},
   "outputs": [],
   "source": [
    "!ffmpeg -i ./Files/Voyage_to_the_Planet_of_Prehistoric_Women.mp4 -loglevel error -vcodec {video_codec} -acodec {audio_codec} -r {frame_rate} -b:v {video_bit_rate}M -b:a {audio_bit_rate}k ./Files/newformat/Voyage_to_the_Planet_of_Prehistoric_Women_formatOK.mp4 -y        "
   ]
  },
  {
   "cell_type": "markdown",
   "metadata": {},
   "source": [
    "<b>5) The Gun and the Pulpit </b><br>\n",
    "We need to change these metadata:\n",
    "- video format (container)<br>\n",
    "- video codec<br>\n",
    "- audio codec<br>\n",
    "- aspect ratio<br>\n",
    "- resolution<br>\n",
    "- video bit rate<br>\n",
    "- audio bit rate<br>\n",
    "- stereo<br>"
   ]
  },
  {
   "cell_type": "code",
   "execution_count": 18,
   "metadata": {},
   "outputs": [],
   "source": [
    "!ffmpeg -i ./Files/The_Gun_and_the_Pulpit.avi -loglevel error -vcodec {video_codec} -acodec {audio_codec} -aspect {aspect_ratio} -vf scale={resolution} -b:v {video_bit_rate}M -b:a {audio_bit_rate}k -ac {audio_channels} ./Files/newformat/The_Gun_and_the_Pulpit_formatOK.mp4 -y"
   ]
  },
  {
   "cell_type": "markdown",
   "metadata": {},
   "source": [
    "<b>Displaying the reformatted video(_formatOK) files in a table</b>"
   ]
  },
  {
   "cell_type": "code",
   "execution_count": 19,
   "metadata": {},
   "outputs": [
    {
     "data": {
      "text/html": [
       "<div>\n",
       "<style scoped>\n",
       "    .dataframe tbody tr th:only-of-type {\n",
       "        vertical-align: middle;\n",
       "    }\n",
       "\n",
       "    .dataframe tbody tr th {\n",
       "        vertical-align: top;\n",
       "    }\n",
       "\n",
       "    .dataframe thead th {\n",
       "        text-align: right;\n",
       "    }\n",
       "</style>\n",
       "<table border=\"1\" class=\"dataframe\">\n",
       "  <thead>\n",
       "    <tr style=\"text-align: right;\">\n",
       "      <th></th>\n",
       "      <th>Last_man_on_earth_1964_formatOK.mp4</th>\n",
       "      <th>Voyage_to_the_Planet_of_Prehistoric_Women_formatOK.mp4</th>\n",
       "      <th>Cosmos_War_of_the_Planets_formatOK.mp4</th>\n",
       "      <th>The_Hill_Gang_Rides_Again_formatOK.mp4</th>\n",
       "      <th>The_Gun_and_the_Pulpit_formatOK.mp4</th>\n",
       "    </tr>\n",
       "  </thead>\n",
       "  <tbody>\n",
       "    <tr>\n",
       "      <th>video_codec</th>\n",
       "      <td>h264</td>\n",
       "      <td>h264</td>\n",
       "      <td>h264</td>\n",
       "      <td>h264</td>\n",
       "      <td>h264</td>\n",
       "    </tr>\n",
       "    <tr>\n",
       "      <th>resolution</th>\n",
       "      <td>640x360</td>\n",
       "      <td>640x360</td>\n",
       "      <td>640x360</td>\n",
       "      <td>640x360</td>\n",
       "      <td>640x360</td>\n",
       "    </tr>\n",
       "    <tr>\n",
       "      <th>aspect_ratio</th>\n",
       "      <td>16:9</td>\n",
       "      <td>16:9</td>\n",
       "      <td>16:9</td>\n",
       "      <td>16:9</td>\n",
       "      <td>16:9</td>\n",
       "    </tr>\n",
       "    <tr>\n",
       "      <th>frame_rate</th>\n",
       "      <td>25</td>\n",
       "      <td>25</td>\n",
       "      <td>25</td>\n",
       "      <td>25</td>\n",
       "      <td>25</td>\n",
       "    </tr>\n",
       "    <tr>\n",
       "      <th>video_bit_rate</th>\n",
       "      <td>3871.52</td>\n",
       "      <td>3547.81</td>\n",
       "      <td>3667.87</td>\n",
       "      <td>3683.93</td>\n",
       "      <td>3613.24</td>\n",
       "    </tr>\n",
       "    <tr>\n",
       "      <th>audio_codec</th>\n",
       "      <td>aac</td>\n",
       "      <td>aac</td>\n",
       "      <td>aac</td>\n",
       "      <td>aac</td>\n",
       "      <td>aac</td>\n",
       "    </tr>\n",
       "    <tr>\n",
       "      <th>audio_bit_rate</th>\n",
       "      <td>240.61</td>\n",
       "      <td>242.369</td>\n",
       "      <td>245.571</td>\n",
       "      <td>214.082</td>\n",
       "      <td>251.031</td>\n",
       "    </tr>\n",
       "    <tr>\n",
       "      <th>audio_channels</th>\n",
       "      <td>stereo</td>\n",
       "      <td>stereo</td>\n",
       "      <td>stereo</td>\n",
       "      <td>stereo</td>\n",
       "      <td>stereo</td>\n",
       "    </tr>\n",
       "  </tbody>\n",
       "</table>\n",
       "</div>"
      ],
      "text/plain": [
       "               Last_man_on_earth_1964_formatOK.mp4  \\\n",
       "video_codec                                   h264   \n",
       "resolution                                 640x360   \n",
       "aspect_ratio                                  16:9   \n",
       "frame_rate                                      25   \n",
       "video_bit_rate                             3871.52   \n",
       "audio_codec                                    aac   \n",
       "audio_bit_rate                              240.61   \n",
       "audio_channels                              stereo   \n",
       "\n",
       "               Voyage_to_the_Planet_of_Prehistoric_Women_formatOK.mp4  \\\n",
       "video_codec                                                  h264       \n",
       "resolution                                                640x360       \n",
       "aspect_ratio                                                 16:9       \n",
       "frame_rate                                                     25       \n",
       "video_bit_rate                                            3547.81       \n",
       "audio_codec                                                   aac       \n",
       "audio_bit_rate                                            242.369       \n",
       "audio_channels                                             stereo       \n",
       "\n",
       "               Cosmos_War_of_the_Planets_formatOK.mp4  \\\n",
       "video_codec                                      h264   \n",
       "resolution                                    640x360   \n",
       "aspect_ratio                                     16:9   \n",
       "frame_rate                                         25   \n",
       "video_bit_rate                                3667.87   \n",
       "audio_codec                                       aac   \n",
       "audio_bit_rate                                245.571   \n",
       "audio_channels                                 stereo   \n",
       "\n",
       "               The_Hill_Gang_Rides_Again_formatOK.mp4  \\\n",
       "video_codec                                      h264   \n",
       "resolution                                    640x360   \n",
       "aspect_ratio                                     16:9   \n",
       "frame_rate                                         25   \n",
       "video_bit_rate                                3683.93   \n",
       "audio_codec                                       aac   \n",
       "audio_bit_rate                                214.082   \n",
       "audio_channels                                 stereo   \n",
       "\n",
       "               The_Gun_and_the_Pulpit_formatOK.mp4  \n",
       "video_codec                                   h264  \n",
       "resolution                                 640x360  \n",
       "aspect_ratio                                  16:9  \n",
       "frame_rate                                      25  \n",
       "video_bit_rate                             3613.24  \n",
       "audio_codec                                    aac  \n",
       "audio_bit_rate                             251.031  \n",
       "audio_channels                              stereo  "
      ]
     },
     "execution_count": 19,
     "metadata": {},
     "output_type": "execute_result"
    }
   ],
   "source": [
    "data = {}\n",
    "path_to_files = \"Files/newformat/\"\n",
    "\n",
    "for vfile in os.listdir(path_to_files):\n",
    "    \n",
    "        video_path = \"./\" + path_to_files + vfile\n",
    "\n",
    "        #this is where you run the terminal command to erase the temporary file (DS_Store). Afterwards, we will retrieve the videos' metadata\n",
    "        os.system(\"find . -name '.DS_Store' -delete\")        \n",
    "        video_metadata = sp.run(shlex.split(f'ffprobe -hide_banner -show_streams -loglevel error -of json {video_path}'), capture_output=True).stdout\n",
    "        json_video_metadata = json.loads(video_metadata)\n",
    "        \n",
    "        #using the helper function, store and save the data in a nested dictionary\n",
    "        storing_metadata(vfile, json_video_metadata, data)\n",
    "\n",
    "pd.DataFrame.from_dict(data)"
   ]
  },
  {
   "cell_type": "markdown",
   "metadata": {},
   "source": [
    "<b>REFORMATTED: Collecting Media Stream Information for Voyage to the Planet of Prehistoric Women_formatOK (using ffprobe)</b>"
   ]
  },
  {
   "cell_type": "code",
   "execution_count": 20,
   "metadata": {},
   "outputs": [
    {
     "name": "stdout",
     "output_type": "stream",
     "text": [
      "Input #0, mov,mp4,m4a,3gp,3g2,mj2, from './Files/newformat/Voyage_to_the_Planet_of_Prehistoric_Women_formatOK.mp4':\r\n",
      "  Metadata:\r\n",
      "    major_brand     : isom\r\n",
      "    minor_version   : 512\r\n",
      "    compatible_brands: isomiso2avc1mp41\r\n",
      "    encoder         : Lavf59.20.101\r\n",
      "  Duration: 00:00:20.08, start: 0.000000, bitrate: 3796 kb/s\r\n",
      "  Stream #0:0[0x1](eng): Video: h264 (High) (avc1 / 0x31637661), yuv420p(tv, bt709, progressive), 640x360 [SAR 1:1 DAR 16:9], 3547 kb/s, 25 fps, 25 tbr, 12800 tbn (default)\r\n",
      "    Metadata:\r\n",
      "      handler_name    : ?Mainconcept Video Media Handler\r\n",
      "      vendor_id       : [0][0][0][0]\r\n",
      "  Stream #0:1[0x2](eng): Audio: aac (LC) (mp4a / 0x6134706D), 48000 Hz, stereo, fltp, 242 kb/s (default)\r\n",
      "    Metadata:\r\n",
      "      handler_name    : #Mainconcept MP4 Sound Media Handler\r\n",
      "      vendor_id       : [0][0][0][0]\r\n"
     ]
    }
   ],
   "source": [
    "!ffprobe -hide_banner ./Files/newformat/Voyage_to_the_Planet_of_Prehistoric_Women_formatOK.mp4"
   ]
  },
  {
   "cell_type": "markdown",
   "metadata": {},
   "source": [
    "<b>REFORMATTED: Collecting Media Stream Information for The Gun and the Pulpit_formatOK (using ffprobe)</b>"
   ]
  },
  {
   "cell_type": "code",
   "execution_count": 21,
   "metadata": {},
   "outputs": [
    {
     "name": "stdout",
     "output_type": "stream",
     "text": [
      "Input #0, mov,mp4,m4a,3gp,3g2,mj2, from './Files/newformat/The_Gun_and_the_Pulpit_formatOK.mp4':\r\n",
      "  Metadata:\r\n",
      "    major_brand     : isom\r\n",
      "    minor_version   : 512\r\n",
      "    compatible_brands: isomiso2avc1mp41\r\n",
      "    encoder         : Lavf59.20.101\r\n",
      "  Duration: 00:00:20.00, start: 0.000000, bitrate: 3871 kb/s\r\n",
      "  Stream #0:0[0x1](und): Video: h264 (High) (avc1 / 0x31637661), yuv420p(progressive), 640x360 [SAR 1:1 DAR 16:9], 3613 kb/s, 25 fps, 25 tbr, 12800 tbn (default)\r\n",
      "    Metadata:\r\n",
      "      handler_name    : VideoHandler\r\n",
      "      vendor_id       : [0][0][0][0]\r\n",
      "  Stream #0:1[0x2](und): Audio: aac (LC) (mp4a / 0x6134706D), 48000 Hz, stereo, fltp, 251 kb/s (default)\r\n",
      "    Metadata:\r\n",
      "      handler_name    : SoundHandler\r\n",
      "      vendor_id       : [0][0][0][0]\r\n"
     ]
    }
   ],
   "source": [
    "!ffprobe -hide_banner ./Files/newformat/The_Gun_and_the_Pulpit_formatOK.mp4"
   ]
  },
  {
   "cell_type": "markdown",
   "metadata": {},
   "source": [
    "<b>REFORMATTED: Collecting Media Stream Information for Last Man On Earth 1964_formatOK (using ffprobe)</b>"
   ]
  },
  {
   "cell_type": "code",
   "execution_count": 22,
   "metadata": {},
   "outputs": [
    {
     "name": "stdout",
     "output_type": "stream",
     "text": [
      "Input #0, mov,mp4,m4a,3gp,3g2,mj2, from './Files/newformat/Last_man_on_earth_1964_formatOK.mp4':\r\n",
      "  Metadata:\r\n",
      "    major_brand     : isom\r\n",
      "    minor_version   : 512\r\n",
      "    compatible_brands: isomiso2avc1mp41\r\n",
      "    encoder         : Lavf59.20.101\r\n",
      "  Duration: 00:00:20.02, start: 0.000000, bitrate: 4115 kb/s\r\n",
      "  Stream #0:0[0x1](eng): Video: h264 (High 4:2:2) (avc1 / 0x31637661), yuv422p10le(tv, smpte170m/smpte170m/bt709, progressive), 640x360 [SAR 1:1 DAR 16:9], 3871 kb/s, 25 fps, 25 tbr, 12800 tbn (default)\r\n",
      "    Metadata:\r\n",
      "      handler_name    : Apple Video Media Handler\r\n",
      "      vendor_id       : [0][0][0][0]\r\n",
      "      timecode        : 00:51:43:11\r\n",
      "  Stream #0:1[0x2](eng): Audio: aac (LC) (mp4a / 0x6134706D), 48000 Hz, stereo, fltp, 240 kb/s (default)\r\n",
      "    Metadata:\r\n",
      "      handler_name    : Apple Sound Media Handler\r\n",
      "      vendor_id       : [0][0][0][0]\r\n",
      "  Stream #0:2[0x3](eng): Data: none (tmcd / 0x64636D74), 0 kb/s\r\n",
      "    Metadata:\r\n",
      "      handler_name    : Apple Video Media Handler\r\n",
      "      timecode        : 00:51:43:11\r\n",
      "\u001b[0;33mUnsupported codec with id 0 for input stream 2\r\n",
      "\u001b[0m"
     ]
    }
   ],
   "source": [
    "!ffprobe -hide_banner ./Files/newformat/Last_man_on_earth_1964_formatOK.mp4"
   ]
  },
  {
   "cell_type": "markdown",
   "metadata": {},
   "source": [
    "<b>REFORMATTED: Collecting Media Stream Information for Cosmos War of The Planets_formatOK (using ffprobe)</b>"
   ]
  },
  {
   "cell_type": "code",
   "execution_count": 23,
   "metadata": {},
   "outputs": [
    {
     "name": "stdout",
     "output_type": "stream",
     "text": [
      "Input #0, mov,mp4,m4a,3gp,3g2,mj2, from './Files/newformat/Cosmos_War_of_the_Planets_formatOK.mp4':\r\n",
      "  Metadata:\r\n",
      "    major_brand     : isom\r\n",
      "    minor_version   : 512\r\n",
      "    compatible_brands: isomiso2avc1mp41\r\n",
      "    encoder         : Lavf59.20.101\r\n",
      "  Duration: 00:00:20.08, start: 0.000000, bitrate: 3919 kb/s\r\n",
      "  Stream #0:0[0x1](eng): Video: h264 (High) (avc1 / 0x31637661), yuv420p(progressive), 640x360 [SAR 1:1 DAR 16:9], 3667 kb/s, 25 fps, 25 tbr, 12800 tbn (default)\r\n",
      "    Metadata:\r\n",
      "      handler_name    : ?Mainconcept Video Media Handler\r\n",
      "      vendor_id       : [0][0][0][0]\r\n",
      "  Stream #0:1[0x2](eng): Audio: aac (LC) (mp4a / 0x6134706D), 48000 Hz, stereo, fltp, 245 kb/s (default)\r\n",
      "    Metadata:\r\n",
      "      handler_name    : #Mainconcept MP4 Sound Media Handler\r\n",
      "      vendor_id       : [0][0][0][0]\r\n"
     ]
    }
   ],
   "source": [
    "!ffprobe -hide_banner ./Files/newformat/Cosmos_War_of_the_Planets_formatOK.mp4"
   ]
  },
  {
   "cell_type": "markdown",
   "metadata": {},
   "source": [
    "<b>REFORMATTED: Collecting Media Stream Information for The Hill Gang Rides Again_formatOK (using ffprobe)</b>"
   ]
  },
  {
   "cell_type": "code",
   "execution_count": 24,
   "metadata": {},
   "outputs": [
    {
     "name": "stdout",
     "output_type": "stream",
     "text": [
      "Input #0, mov,mp4,m4a,3gp,3g2,mj2, from './Files/newformat/The_Hill_Gang_Rides_Again_formatOK.mp4':\r\n",
      "  Metadata:\r\n",
      "    major_brand     : isom\r\n",
      "    minor_version   : 512\r\n",
      "    compatible_brands: isomiso2avc1mp41\r\n",
      "    encoder         : Lavf59.20.101\r\n",
      "  Duration: 00:00:20.02, start: 0.000000, bitrate: 3902 kb/s\r\n",
      "  Stream #0:0[0x1](eng): Video: h264 (High) (avc1 / 0x31637661), yuv420p(progressive), 640x360 [SAR 1:1 DAR 16:9], 3683 kb/s, 25 fps, 25 tbr, 12800 tbn (default)\r\n",
      "    Metadata:\r\n",
      "      handler_name    : ?Mainconcept Video Media Handler\r\n",
      "      vendor_id       : [0][0][0][0]\r\n",
      "  Stream #0:1[0x2](eng): Audio: aac (LC) (mp4a / 0x6134706D), 44100 Hz, stereo, fltp, 214 kb/s (default)\r\n",
      "    Metadata:\r\n",
      "      handler_name    : #Mainconcept MP4 Sound Media Handler\r\n",
      "      vendor_id       : [0][0][0][0]\r\n"
     ]
    }
   ],
   "source": [
    "!ffprobe -hide_banner ./Files/newformat/The_Hill_Gang_Rides_Again_formatOK.mp4"
   ]
  },
  {
   "cell_type": "markdown",
   "metadata": {},
   "source": [
    "<b>References</b><br>Coursera Week 19 - Exercise 19. Processing video with ffmpeg<br>\n",
    "https://stackoverflow.com/questions/67318354/how-to-get-ffprobe-metadata-as-variable-to-parse-in-python"
   ]
  }
 ],
 "metadata": {
  "kernelspec": {
   "display_name": "Python 3",
   "language": "python",
   "name": "python3"
  },
  "language_info": {
   "codemirror_mode": {
    "name": "ipython",
    "version": 3
   },
   "file_extension": ".py",
   "mimetype": "text/x-python",
   "name": "python",
   "nbconvert_exporter": "python",
   "pygments_lexer": "ipython3",
   "version": "3.8.5"
  }
 },
 "nbformat": 4,
 "nbformat_minor": 4
}
